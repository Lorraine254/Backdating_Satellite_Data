{
 "cells": [
  {
   "cell_type": "code",
   "execution_count": 405,
   "metadata": {},
   "outputs": [],
   "source": [
    "#loading required libraries\n",
    "import pandas as pd\n",
    "import numpy as np\n",
    "\n",
    "# Visualisations\n",
    "import matplotlib.pyplot as plt\n",
    "\n",
    "# Correlation test\n",
    "from scipy import stats\n",
    "from scipy.stats import pearsonr\n",
    "\n",
    "# RMSE\n",
    "from sklearn.metrics import mean_squared_error,r2_score\n",
    "\n",
    "# Splitting the data\n",
    "from sklearn.model_selection import train_test_split\n",
    "\n",
    "# Linear Regression library\n",
    "from sklearn.linear_model import LinearRegression\n",
    "\n",
    "# Statitistical Tests - Z-Test\n",
    "from statsmodels.stats.weightstats import ztest as ztest\n",
    "\n",
    "# OLS Regression\n",
    "import statsmodels.api as sm\n",
    "\n",
    "#Suppressing warnings\n",
    "import warnings\n",
    "warnings.filterwarnings(\"ignore\")\n"
   ]
  },
  {
   "cell_type": "code",
   "execution_count": 406,
   "metadata": {},
   "outputs": [],
   "source": [
    "# loading required dataset\n",
    "\n",
    "# MODIS Dataset\n",
    "bauchi_modis=pd.read_csv('Bauchi-MODIS.csv')\n",
    "plateau_modis= pd.read_csv('Plateau-MODIS.csv')\n",
    "\n",
    "# VIIRS Dataset\n",
    "bauchi_viirs = pd.read_csv('Bauchi-VIIRS.csv')\n",
    "plateau_viirs = pd.read_csv('Plateau-VIIRS.csv')"
   ]
  },
  {
   "cell_type": "markdown",
   "metadata": {},
   "source": [
    "## Understanding the data"
   ]
  },
  {
   "cell_type": "markdown",
   "metadata": {},
   "source": [
    "### Region: Bauchi"
   ]
  },
  {
   "cell_type": "code",
   "execution_count": 407,
   "metadata": {},
   "outputs": [
    {
     "name": "stdout",
     "output_type": "stream",
     "text": [
      "<class 'pandas.core.frame.DataFrame'>\n",
      "RangeIndex: 549 entries, 0 to 548\n",
      "Data columns (total 2 columns):\n",
      " #   Column             Non-Null Count  Dtype  \n",
      "---  ------             --------------  -----  \n",
      " 0   system:time_start  549 non-null    object \n",
      " 1   NDVI               549 non-null    float64\n",
      "dtypes: float64(1), object(1)\n",
      "memory usage: 8.7+ KB\n"
     ]
    }
   ],
   "source": [
    "bauchi_modis.info()"
   ]
  },
  {
   "cell_type": "code",
   "execution_count": 408,
   "metadata": {},
   "outputs": [
    {
     "name": "stdout",
     "output_type": "stream",
     "text": [
      "<class 'pandas.core.frame.DataFrame'>\n",
      "RangeIndex: 550 entries, 0 to 549\n",
      "Data columns (total 2 columns):\n",
      " #   Column             Non-Null Count  Dtype  \n",
      "---  ------             --------------  -----  \n",
      " 0   system:time_start  550 non-null    object \n",
      " 1   NDVI               550 non-null    float64\n",
      "dtypes: float64(1), object(1)\n",
      "memory usage: 8.7+ KB\n"
     ]
    }
   ],
   "source": [
    "bauchi_viirs.info()"
   ]
  },
  {
   "cell_type": "markdown",
   "metadata": {},
   "source": [
    "- Both datasets do not contain missing values.\n",
    "- The date is an object datatype"
   ]
  },
  {
   "cell_type": "markdown",
   "metadata": {},
   "source": [
    "### Region: Plateau"
   ]
  },
  {
   "cell_type": "code",
   "execution_count": 409,
   "metadata": {},
   "outputs": [
    {
     "name": "stdout",
     "output_type": "stream",
     "text": [
      "<class 'pandas.core.frame.DataFrame'>\n",
      "RangeIndex: 549 entries, 0 to 548\n",
      "Data columns (total 2 columns):\n",
      " #   Column             Non-Null Count  Dtype  \n",
      "---  ------             --------------  -----  \n",
      " 0   system:time_start  549 non-null    object \n",
      " 1   NDVI               549 non-null    float64\n",
      "dtypes: float64(1), object(1)\n",
      "memory usage: 8.7+ KB\n"
     ]
    }
   ],
   "source": [
    "plateau_modis.info()"
   ]
  },
  {
   "cell_type": "code",
   "execution_count": 410,
   "metadata": {},
   "outputs": [
    {
     "name": "stdout",
     "output_type": "stream",
     "text": [
      "<class 'pandas.core.frame.DataFrame'>\n",
      "RangeIndex: 550 entries, 0 to 549\n",
      "Data columns (total 2 columns):\n",
      " #   Column             Non-Null Count  Dtype  \n",
      "---  ------             --------------  -----  \n",
      " 0   system:time_start  550 non-null    object \n",
      " 1   NDVI               550 non-null    float64\n",
      "dtypes: float64(1), object(1)\n",
      "memory usage: 8.7+ KB\n"
     ]
    }
   ],
   "source": [
    "plateau_viirs.info()"
   ]
  },
  {
   "cell_type": "markdown",
   "metadata": {},
   "source": [
    "- Both datasets do not contain missing values.\n",
    "- The date is an object datatype"
   ]
  },
  {
   "cell_type": "markdown",
   "metadata": {},
   "source": [
    "## Function To be applied"
   ]
  },
  {
   "cell_type": "code",
   "execution_count": 411,
   "metadata": {},
   "outputs": [],
   "source": [
    "# Function that performs resampling and merging \n",
    "\n",
    "def resampling(data1, data2):\n",
    "\n",
    "    # For Modis data\n",
    "    data1['date'] = pd.to_datetime(data1['system:time_start']) #Converting the date to a datetime object\n",
    "    data1.set_index('date', inplace=True)                      # Setting the datetime as index\n",
    "    data1.drop(['system:time_start'], axis=1, inplace=True)    # Dropping unnnecessary columns\n",
    "    resampled_data1 = data1.resample('M').mean()               # Performing resampling by the mean\n",
    "\n",
    "        # For Viirs data \n",
    "    data2['date'] = pd.to_datetime(data2['system:time_start'])  # Converting the date to a datetime object\n",
    "    data2.set_index('date', inplace=True)                      # Setting the datetime as index\n",
    "    data2.drop(['system:time_start'], axis=1, inplace=True)    # Dropping unnecessary columns \n",
    "    resampled_data2 = data2.resample('M').mean()               # Performing resampling by the mean    \n",
    "    merged_df = pd.merge(resampled_data1, resampled_data2, left_index=True, right_index=True)  # Merging the two dataframes\n",
    "    \n",
    "    return [merged_df,resampled_data1, resampled_data2]    "
   ]
  },
  {
   "cell_type": "markdown",
   "metadata": {},
   "source": [
    "# More Analysis"
   ]
  },
  {
   "cell_type": "markdown",
   "metadata": {},
   "source": [
    "## Region: Bauchi"
   ]
  },
  {
   "cell_type": "markdown",
   "metadata": {},
   "source": [
    "### Correlation Test without Resampling"
   ]
  },
  {
   "cell_type": "code",
   "execution_count": 412,
   "metadata": {},
   "outputs": [
    {
     "name": "stdout",
     "output_type": "stream",
     "text": [
      "Pearson Correlation Coefficient(without_Resampling): 0.9842276711662477\n"
     ]
    }
   ],
   "source": [
    "# Converting the date to a datetime object\n",
    "bauchi_modis_unsampled = bauchi_modis\n",
    "bauchi_viirs_unsampled =  bauchi_viirs\n",
    "bauchi_modis_unsampled['date'] = pd.to_datetime(bauchi_modis_unsampled['system:time_start']) #Converting the date to a datetime object\n",
    "bauchi_viirs_unsampled['date'] = pd.to_datetime(bauchi_viirs_unsampled['system:time_start']) #Converting the date to a datetime object\n",
    "\n",
    "# Merging the two Datasets\n",
    "merged_df_unsampled_bauchi = pd.merge(bauchi_modis_unsampled, bauchi_viirs_unsampled, on=['date'], how='inner',)\n",
    "\n",
    "# Dropping unnecessary columns\n",
    "merged_df_unsampled_bauchi.drop(['system:time_start_x','system:time_start_y'],axis=1,inplace=True)\n",
    "\n",
    "## Calculate Pearson correlation coefficient \n",
    "correlation_coefficient, p_value = pearsonr(merged_df_unsampled_bauchi['NDVI_x'], merged_df_unsampled_bauchi['NDVI_y'])\n",
    "\n",
    "# Display the results\n",
    "print(f\"Pearson Correlation Coefficient(without_Resampling): {correlation_coefficient}\")"
   ]
  },
  {
   "cell_type": "markdown",
   "metadata": {},
   "source": [
    "### Correlation Test with Resampling"
   ]
  },
  {
   "cell_type": "code",
   "execution_count": 413,
   "metadata": {},
   "outputs": [
    {
     "name": "stdout",
     "output_type": "stream",
     "text": [
      "Pearson Correlation Coefficient(With Resampling): 0.9919022766579455\n"
     ]
    }
   ],
   "source": [
    "## Applying the function\n",
    "resample_bauchi_merged_df = resampling(bauchi_modis, bauchi_viirs)[0]\n",
    "\n",
    "## Calculate Pearson correlation coefficient \n",
    "correlation_coefficient, p_value = pearsonr(resample_bauchi_merged_df['NDVI_x'], resample_bauchi_merged_df['NDVI_y'])\n",
    "\n",
    "# Display the results\n",
    "print(f\"Pearson Correlation Coefficient(With Resampling): {correlation_coefficient}\")\n"
   ]
  },
  {
   "cell_type": "markdown",
   "metadata": {},
   "source": [
    "### Checking the RMSE"
   ]
  },
  {
   "cell_type": "code",
   "execution_count": 414,
   "metadata": {},
   "outputs": [
    {
     "data": {
      "text/plain": [
       "0.025003886657754375"
      ]
     },
     "execution_count": 414,
     "metadata": {},
     "output_type": "execute_result"
    }
   ],
   "source": [
    "# Definining the actual and predicted\n",
    "y_actual=resample_bauchi_merged_df['NDVI_y']  # VIIRS NDVI\n",
    "y_predicted=resample_bauchi_merged_df['NDVI_x'] #MODIS NDVI\n",
    "\n",
    "# Performing the RMSE\n",
    "bauchi_rmse = mean_squared_error(y_actual, y_predicted, squared=False)\n",
    "bauchi_rmse"
   ]
  },
  {
   "cell_type": "markdown",
   "metadata": {},
   "source": [
    "### Hypothesis Testing"
   ]
  },
  {
   "cell_type": "markdown",
   "metadata": {},
   "source": [
    "1.Hypothesis\n",
    "- Null hypothesis: VIIRS NDVI is not equal to MODIS NDVI\n",
    "- Alternative hypothesis : VIIRS NDVI is equal to MODIS NDVI\n",
    "\n",
    "2.Significance level(alpha=0.05)\n",
    "\n",
    "3.Test Statistic - Z test (large sample size and known standard deviation)\n",
    "\n",
    "3.Critical Value / P-value\n",
    "\n",
    "4.Decision"
   ]
  },
  {
   "cell_type": "code",
   "execution_count": 415,
   "metadata": {},
   "outputs": [
    {
     "name": "stdout",
     "output_type": "stream",
     "text": [
      "Fail to reject the null hypothesis.There is a significant difference between VIIRS and MODIS. Hence VIIRS and MODIS are not equal\n",
      "Fail to reject the null hypothesis. There is a significant difference. Hence VIIRS and MODIS are not equal\n"
     ]
    }
   ],
   "source": [
    "#Significance Level\n",
    "alpha = 0.05\n",
    "\n",
    "# Performing Z-Test\n",
    "results = ztest(resample_bauchi_merged_df['NDVI_x'],resample_bauchi_merged_df['NDVI_y'],value=0)\n",
    "# Calculating Z-tabulated (critical value)\n",
    "z_critical_bauchi = stats.norm.ppf(1 - alpha/2)\n",
    "# Decision - Z-Test\n",
    "if np.abs(results[0]) > z_critical_bauchi:\n",
    "    print(\"\"\"Reject the null hypothesis.There is no significant difference between VIIRS and MODIS. Hence VIIRS and MODIS are equal\"\"\")\n",
    "else:\n",
    "    print(\"\"\"Fail to reject the null hypothesis.There is a significant difference between VIIRS and MODIS. Hence VIIRS and MODIS are not equal\"\"\")\n",
    "\n",
    "\n",
    "## Using P-VALUE\n",
    "# Calculate p-value\n",
    "p_value_bauchi = 2 * (1 - stats.norm.cdf(np.abs(results[0])))  # Two-tailed test\n",
    "# Decision - P-Value\n",
    "if p_value_bauchi < alpha:\n",
    "    print(\"Reject the null hypothesis. There is no significant difference. Hence VIIRS and MODIS are equal\")\n",
    "else:\n",
    "    print(\"Fail to reject the null hypothesis. There is a significant difference. Hence VIIRS and MODIS are not equal\")\n"
   ]
  },
  {
   "cell_type": "markdown",
   "metadata": {},
   "source": [
    "## Region: Plateau"
   ]
  },
  {
   "cell_type": "markdown",
   "metadata": {},
   "source": [
    "### Correlation Test without Resampling"
   ]
  },
  {
   "cell_type": "code",
   "execution_count": 416,
   "metadata": {},
   "outputs": [
    {
     "name": "stdout",
     "output_type": "stream",
     "text": [
      "Pearson Correlation Coefficient(without_Resampling): 0.933863054851532\n"
     ]
    }
   ],
   "source": [
    "# Converting the date to a datetime object\n",
    "plateau_modis_unsampled = plateau_modis\n",
    "plateau_viirs_unsampled =  plateau_viirs\n",
    "plateau_modis_unsampled['date'] = pd.to_datetime(plateau_modis_unsampled['system:time_start']) #Converting the date to a datetime object\n",
    "plateau_viirs_unsampled['date'] = pd.to_datetime(plateau_viirs_unsampled['system:time_start']) #Converting the date to a datetime object\n",
    "\n",
    "# Merging the two Datasets\n",
    "merged_df_unsampled_plateau = pd.merge(plateau_modis_unsampled, plateau_viirs_unsampled, on=['date'], how='inner',)\n",
    "\n",
    "# Dropping unnecessary columns\n",
    "merged_df_unsampled_plateau.drop(['system:time_start_x','system:time_start_y'],axis=1,inplace=True)\n",
    "\n",
    "## Calculate Pearson correlation coefficient \n",
    "correlation_coefficient, p_value = pearsonr(merged_df_unsampled_plateau['NDVI_x'], merged_df_unsampled_plateau['NDVI_y'])\n",
    "\n",
    "# Display the results\n",
    "print(f\"Pearson Correlation Coefficient(without_Resampling): {correlation_coefficient}\")\n"
   ]
  },
  {
   "cell_type": "markdown",
   "metadata": {},
   "source": [
    "### Correlation Test with Resampling"
   ]
  },
  {
   "cell_type": "code",
   "execution_count": 417,
   "metadata": {},
   "outputs": [
    {
     "name": "stdout",
     "output_type": "stream",
     "text": [
      "Pearson Correlation Coefficient(With Resampling): 0.9603648984788874\n"
     ]
    }
   ],
   "source": [
    "## Applying the function\n",
    "resample_plateau_merged_df = resampling(plateau_modis, plateau_viirs)\n",
    "\n",
    "# Extracting Modis resampled data\n",
    "resample_plateau_modis_df = resample_plateau_merged_df[1]\n",
    "\n",
    "## Calculate Pearson correlation coefficient \n",
    "correlation_coefficient, p_value = pearsonr(resample_plateau_merged_df[0]['NDVI_x'], resample_plateau_merged_df[0]['NDVI_y'])\n",
    "\n",
    "# Display the results\n",
    "print(f\"Pearson Correlation Coefficient(With Resampling): {correlation_coefficient}\")\n",
    "\n"
   ]
  },
  {
   "cell_type": "markdown",
   "metadata": {},
   "source": [
    "- High correlation results in multicollinearity,which won’t render our model unusable if violated, but it will cause issues with the interpretability of the model."
   ]
  },
  {
   "cell_type": "markdown",
   "metadata": {},
   "source": [
    "### Checking the RMSE"
   ]
  },
  {
   "cell_type": "code",
   "execution_count": 418,
   "metadata": {},
   "outputs": [
    {
     "data": {
      "text/plain": [
       "0.05859859537578893"
      ]
     },
     "execution_count": 418,
     "metadata": {},
     "output_type": "execute_result"
    }
   ],
   "source": [
    "# Definining the actual and predicted\n",
    "y_actual=resample_plateau_merged_df[0]['NDVI_y']  # VIIRS NDVI\n",
    "y_predicted=resample_plateau_merged_df[0]['NDVI_x'] #MODIS NDVI\n",
    "\n",
    "# Performing the RMSE\n",
    "plateau_rmse = mean_squared_error(y_actual, y_predicted, squared=False)\n",
    "plateau_rmse"
   ]
  },
  {
   "cell_type": "markdown",
   "metadata": {},
   "source": [
    "### Hypothesis Testing"
   ]
  },
  {
   "cell_type": "markdown",
   "metadata": {},
   "source": [
    "1.Hypothesis\n",
    "- Null hypothesis: VIIRS NDVI is not equal to MODIS NDVI\n",
    "- Alternative hypothesis : VIIRS NDVI is equal to MODIS NDVI\n",
    "\n",
    "2.Significance level(alpha=0.05)\n",
    "\n",
    "3.Test Statistic - Z test (large sample size and known standard deviation)\n",
    "\n",
    "3.Critical Value / P-value\n",
    "\n",
    "4.Decision"
   ]
  },
  {
   "cell_type": "code",
   "execution_count": 419,
   "metadata": {},
   "outputs": [
    {
     "name": "stdout",
     "output_type": "stream",
     "text": [
      "Reject the null hypothesis.There is no significant difference between VIIRS and MODIS. Hence VIIRS and MODIS are equal\n",
      "Reject the null hypothesis. There is no significant difference. Hence VIIRS and MODIS are equal\n"
     ]
    }
   ],
   "source": [
    "#Significance Level\n",
    "alpha = 0.05\n",
    "\n",
    "# Performing Z-Test\n",
    "results_plateau = ztest(resample_plateau_merged_df[0]['NDVI_x'],resample_plateau_merged_df[0]['NDVI_y'],value=0)\n",
    "# Calculating Z-tabulated (critical value)\n",
    "z_critical_plateau = stats.norm.ppf(1 - alpha/2)\n",
    "# Decision - Z-Test\n",
    "if np.abs(results_plateau[0]) > z_critical_plateau:\n",
    "    print(\"\"\"Reject the null hypothesis.There is no significant difference between VIIRS and MODIS. Hence VIIRS and MODIS are equal\"\"\")\n",
    "else:\n",
    "    print(\"\"\"Fail to reject the null hypothesis.There is a significant difference between VIIRS and MODIS. Hence VIIRS and MODIS are not equal\"\"\")\n",
    "\n",
    "\n",
    "## Using P-VALUE\n",
    "# Calculate p-value\n",
    "p_value_plateau = 2 * (1 - stats.norm.cdf(np.abs(results_plateau[0])))  # Two-tailed test\n",
    "# Decision - P-Value\n",
    "if p_value_plateau < alpha:\n",
    "    print(\"Reject the null hypothesis. There is no significant difference. Hence VIIRS and MODIS are equal\")\n",
    "else:\n",
    "    print(\"Fail to reject the null hypothesis. There is a significant difference. Hence VIIRS and MODIS are not equal\")\n"
   ]
  },
  {
   "cell_type": "markdown",
   "metadata": {},
   "source": [
    "### Fitting a Regression Model"
   ]
  },
  {
   "cell_type": "code",
   "execution_count": 420,
   "metadata": {},
   "outputs": [
    {
     "name": "stdout",
     "output_type": "stream",
     "text": [
      "                            OLS Regression Results                            \n",
      "==============================================================================\n",
      "Dep. Variable:                      y   R-squared:                       0.927\n",
      "Model:                            OLS   Adj. R-squared:                  0.927\n",
      "Method:                 Least Squares   F-statistic:                     1438.\n",
      "Date:                Thu, 25 Jan 2024   Prob (F-statistic):           4.16e-66\n",
      "Time:                        16:26:51   Log-Likelihood:                 212.21\n",
      "No. Observations:                 115   AIC:                            -420.4\n",
      "Df Residuals:                     113   BIC:                            -414.9\n",
      "Df Model:                           1                                         \n",
      "Covariance Type:            nonrobust                                         \n",
      "==============================================================================\n",
      "                 coef    std err          t      P>|t|      [0.025      0.975]\n",
      "------------------------------------------------------------------------------\n",
      "const         -0.0029      0.013     -0.224      0.823      -0.028       0.023\n",
      "x1             1.1018      0.029     37.922      0.000       1.044       1.159\n",
      "==============================================================================\n",
      "Omnibus:                       56.028   Durbin-Watson:                   2.010\n",
      "Prob(Omnibus):                  0.000   Jarque-Bera (JB):              169.712\n",
      "Skew:                           1.822   Prob(JB):                     1.40e-37\n",
      "Kurtosis:                       7.705   Cond. No.                         9.56\n",
      "==============================================================================\n",
      "\n",
      "Notes:\n",
      "[1] Standard Errors assume that the covariance matrix of the errors is correctly specified.\n"
     ]
    }
   ],
   "source": [
    "# Defining the dependent and independent variable\n",
    "X = resample_plateau_merged_df[0].iloc[:, :-1].values  #MODIS NDVI\n",
    "y = resample_plateau_merged_df[0].iloc[:,1].values  # VIIRS NDVI\n",
    "\n",
    "# Adding a constant term to the independent variable (for the intercept)\n",
    "X = sm.add_constant(X)\n",
    "\n",
    "# Splitting the dataset into training set and testing set\n",
    "X_train,X_test,y_train,y_test = train_test_split(X,y,test_size=0.2,random_state=0)\n",
    "\n",
    "# Fitting the OLS regression model\n",
    "model = sm.OLS(y_train, X_train).fit()\n",
    "\n",
    "# Displaying the regression summary\n",
    "print(model.summary())\n",
    "\n",
    "\n"
   ]
  },
  {
   "cell_type": "code",
   "execution_count": 421,
   "metadata": {},
   "outputs": [
    {
     "data": {
      "text/plain": [
       "array([0.50282241, 0.57829413, 0.29679011, 0.31552032, 0.27750901,\n",
       "       0.68957361, 0.36399851, 0.53532483, 0.61520366, 0.47197265,\n",
       "       0.49290642, 0.31496943, 0.3645494 , 0.6758014 , 0.54028283,\n",
       "       0.70114227, 0.33149608, 0.67194518, 0.56727636, 0.36510028,\n",
       "       0.29789189, 0.67194518, 0.29458656, 0.32488542, 0.56892903,\n",
       "       0.50888218, 0.31882565, 0.66258008, 0.54744438])"
      ]
     },
     "execution_count": 421,
     "metadata": {},
     "output_type": "execute_result"
    }
   ],
   "source": [
    "# Predicting the test set results\n",
    "y_pred = model.predict(X_test)\n",
    "y_pred"
   ]
  },
  {
   "cell_type": "code",
   "execution_count": 422,
   "metadata": {},
   "outputs": [
    {
     "data": {
      "text/plain": [
       "0.0020835942550963145"
      ]
     },
     "execution_count": 422,
     "metadata": {},
     "output_type": "execute_result"
    }
   ],
   "source": [
    "# Evaluating the model- RMSE\n",
    "mean_squared_error(y_test, y_pred)\n"
   ]
  },
  {
   "cell_type": "code",
   "execution_count": 423,
   "metadata": {},
   "outputs": [
    {
     "data": {
      "text/plain": [
       "0.9035448851317363"
      ]
     },
     "execution_count": 423,
     "metadata": {},
     "output_type": "execute_result"
    }
   ],
   "source": [
    "# Using R-squared\n",
    "r2_score(y_test,y_pred)"
   ]
  },
  {
   "cell_type": "code",
   "execution_count": 424,
   "metadata": {},
   "outputs": [
    {
     "data": {
      "text/plain": [
       "<Axes: >"
      ]
     },
     "execution_count": 424,
     "metadata": {},
     "output_type": "execute_result"
    },
    {
     "data": {
      "image/png": "[encoded data removed]",
      "text/plain": [
       "<Figure size 640x480 with 1 Axes>"
      ]
     },
     "metadata": {},
     "output_type": "display_data"
    }
   ],
   "source": [
    "pd.DataFrame({'y_actual':y_test, 'y_pred':y_pred}).plot()"
   ]
  },
  {
   "cell_type": "code",
   "execution_count": 425,
   "metadata": {},
   "outputs": [
    {
     "data": {
      "text/html": [
       "<div>\n",
       "<style scoped>\n",
       "    .dataframe tbody tr th:only-of-type {\n",
       "        vertical-align: middle;\n",
       "    }\n",
       "\n",
       "    .dataframe tbody tr th {\n",
       "        vertical-align: top;\n",
       "    }\n",
       "\n",
       "    .dataframe thead th {\n",
       "        text-align: right;\n",
       "    }\n",
       "</style>\n",
       "<table border=\"1\" class=\"dataframe\">\n",
       "  <thead>\n",
       "    <tr style=\"text-align: right;\">\n",
       "      <th></th>\n",
       "      <th>NDVI</th>\n",
       "      <th>VIIRS_Predictions</th>\n",
       "      <th>Difference</th>\n",
       "    </tr>\n",
       "    <tr>\n",
       "      <th>date</th>\n",
       "      <th></th>\n",
       "      <th></th>\n",
       "      <th></th>\n",
       "    </tr>\n",
       "  </thead>\n",
       "  <tbody>\n",
       "    <tr>\n",
       "      <th>2000-02-29</th>\n",
       "      <td>0.2390</td>\n",
       "      <td>0.260431</td>\n",
       "      <td>-0.021431</td>\n",
       "    </tr>\n",
       "    <tr>\n",
       "      <th>2000-03-31</th>\n",
       "      <td>0.2570</td>\n",
       "      <td>0.280263</td>\n",
       "      <td>-0.023263</td>\n",
       "    </tr>\n",
       "    <tr>\n",
       "      <th>2000-04-30</th>\n",
       "      <td>0.2975</td>\n",
       "      <td>0.324885</td>\n",
       "      <td>-0.027385</td>\n",
       "    </tr>\n",
       "    <tr>\n",
       "      <th>2000-05-31</th>\n",
       "      <td>0.4570</td>\n",
       "      <td>0.500619</td>\n",
       "      <td>-0.043619</td>\n",
       "    </tr>\n",
       "    <tr>\n",
       "      <th>2000-06-30</th>\n",
       "      <td>0.5735</td>\n",
       "      <td>0.628976</td>\n",
       "      <td>-0.055476</td>\n",
       "    </tr>\n",
       "    <tr>\n",
       "      <th>...</th>\n",
       "      <td>...</td>\n",
       "      <td>...</td>\n",
       "      <td>...</td>\n",
       "    </tr>\n",
       "    <tr>\n",
       "      <th>2011-08-31</th>\n",
       "      <td>0.4960</td>\n",
       "      <td>0.543588</td>\n",
       "      <td>-0.047588</td>\n",
       "    </tr>\n",
       "    <tr>\n",
       "      <th>2011-09-30</th>\n",
       "      <td>0.6085</td>\n",
       "      <td>0.667538</td>\n",
       "      <td>-0.059038</td>\n",
       "    </tr>\n",
       "    <tr>\n",
       "      <th>2011-10-31</th>\n",
       "      <td>0.5920</td>\n",
       "      <td>0.649359</td>\n",
       "      <td>-0.057359</td>\n",
       "    </tr>\n",
       "    <tr>\n",
       "      <th>2011-11-30</th>\n",
       "      <td>0.4735</td>\n",
       "      <td>0.518798</td>\n",
       "      <td>-0.045298</td>\n",
       "    </tr>\n",
       "    <tr>\n",
       "      <th>2011-12-31</th>\n",
       "      <td>0.3475</td>\n",
       "      <td>0.379974</td>\n",
       "      <td>-0.032474</td>\n",
       "    </tr>\n",
       "  </tbody>\n",
       "</table>\n",
       "<p>143 rows × 3 columns</p>\n",
       "</div>"
      ],
      "text/plain": [
       "              NDVI  VIIRS_Predictions  Difference\n",
       "date                                             \n",
       "2000-02-29  0.2390           0.260431   -0.021431\n",
       "2000-03-31  0.2570           0.280263   -0.023263\n",
       "2000-04-30  0.2975           0.324885   -0.027385\n",
       "2000-05-31  0.4570           0.500619   -0.043619\n",
       "2000-06-30  0.5735           0.628976   -0.055476\n",
       "...            ...                ...         ...\n",
       "2011-08-31  0.4960           0.543588   -0.047588\n",
       "2011-09-30  0.6085           0.667538   -0.059038\n",
       "2011-10-31  0.5920           0.649359   -0.057359\n",
       "2011-11-30  0.4735           0.518798   -0.045298\n",
       "2011-12-31  0.3475           0.379974   -0.032474\n",
       "\n",
       "[143 rows x 3 columns]"
      ]
     },
     "execution_count": 425,
     "metadata": {},
     "output_type": "execute_result"
    }
   ],
   "source": [
    "# Filter the DataFrame for the date range 2000-01-01 to 2011-12-31\n",
    "resample_plateau_modis_filtered = resample_plateau_modis_df.loc['2000-01-01':'2011-12-31']\n",
    "\n",
    "# Creating an array of the filtered dataframe\n",
    "resample_plateau_modis_array = resample_plateau_modis_filtered['NDVI'].to_numpy()\n",
    "resample_plateau_modis_array = np.column_stack((np.ones_like(resample_plateau_modis_array), resample_plateau_modis_array))\n",
    "\n",
    "#Using the trained model to predict VIIRS values\n",
    "viirs_predictions = model.predict(resample_plateau_modis_array)\n",
    "viirs_predictions\n",
    "# Adding the VIIRS predictions as a new column to the dataframe\n",
    "resample_plateau_modis_filtered['VIIRS_Predictions']=viirs_predictions\n",
    "\n",
    "\n",
    "# Retrieving Modis Values\n",
    "modis_values = resample_plateau_modis_filtered['NDVI']\n",
    "\n",
    "# Calculating the difference between MODIS values and VIIRS predictions\n",
    "difference=modis_values-viirs_predictions\n",
    "\n",
    "# Add the difference as a new column to the DataFrame\n",
    "resample_plateau_modis_filtered['Difference'] = difference\n",
    "resample_plateau_modis_filtered"
   ]
  },
  {
   "cell_type": "code",
   "execution_count": 426,
   "metadata": {},
   "outputs": [
    {
     "data": {
      "text/plain": [
       "0.04361038280324743"
      ]
     },
     "execution_count": 426,
     "metadata": {},
     "output_type": "execute_result"
    }
   ],
   "source": [
    "(sum(resample_plateau_modis_filtered['Difference']**2)/resample_plateau_modis_filtered['Difference'].shape[0])**0.5"
   ]
  },
  {
   "cell_type": "code",
   "execution_count": 427,
   "metadata": {},
   "outputs": [
    {
     "data": {
      "text/plain": [
       "0.04361038280324743"
      ]
     },
     "execution_count": 427,
     "metadata": {},
     "output_type": "execute_result"
    }
   ],
   "source": [
    "mean_squared_error(resample_plateau_modis_filtered['NDVI'], resample_plateau_modis_filtered['VIIRS_Predictions'], squared=False)\n"
   ]
  }
 ],
 "metadata": {
  "kernelspec": {
   "display_name": "Python 3",
   "language": "python",
   "name": "python3"
  },
  "language_info": {
   "codemirror_mode": {
    "name": "ipython",
    "version": 3
   },
   "file_extension": ".py",
   "mimetype": "text/x-python",
   "name": "python",
   "nbconvert_exporter": "python",
   "pygments_lexer": "ipython3",
   "version": "3.11.7"
  }
 },
 "nbformat": 4,
 "nbformat_minor": 2
}
